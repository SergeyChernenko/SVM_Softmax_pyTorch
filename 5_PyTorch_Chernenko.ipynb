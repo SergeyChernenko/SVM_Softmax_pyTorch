{
 "cells": [
  {
   "cell_type": "markdown",
   "metadata": {},
   "source": [
    "### Черненко Сергей Евгеньевич (184-321)"
   ]
  },
  {
   "cell_type": "markdown",
   "metadata": {},
   "source": [
    "# Нейронная сеть и PyTorch\n",
    "Порядок выполнения:\n",
    "1. Используя фреймворк PyTorch создать нейронную сеть;\n",
    "2. Загрузить базу данных MNIST;\n",
    "3. Разделить данные на выборки: обучающую, проверочную, тестовую;\n",
    "4. Провести предварительную обработку данных;\n",
    "5. Обучить нейронную сеть;\n",
    "6. Подобрать гиперпараметры;\n",
    "7. Оценить результаты на тестовой выборке.\n"
   ]
  },
  {
   "cell_type": "code",
   "execution_count": 170,
   "metadata": {},
   "outputs": [],
   "source": [
    "import torch\n",
    "import numpy as np\n",
    "import torch.nn as nn\n",
    "import torch.nn.functional as F\n",
    "from torchvision import datasets\n",
    "import torchvision.transforms as transforms\n",
    "\n",
    "import time"
   ]
  },
  {
   "cell_type": "markdown",
   "metadata": {},
   "source": [
    "## Загрузка базы MNIST"
   ]
  },
  {
   "cell_type": "code",
   "execution_count": 171,
   "metadata": {},
   "outputs": [],
   "source": [
    "# количество образцов для загрузки \n",
    "batch_size = 20\n",
    "\n",
    "transform = transforms.ToTensor()\n",
    "X_train = datasets.MNIST(root='data', train=True,\n",
    "                                   download=True, transform=transform)\n",
    "Y_train = datasets.MNIST(root='data', train=False,\n",
    "                                  download=True, transform=transform)\n",
    "\n",
    "# Делим на образцы\n",
    "X_train = torch.utils.data.DataLoader(X_train, batch_size=batch_size)\n",
    "Y_train = torch.utils.data.DataLoader(Y_train, batch_size=batch_size)\n",
    "\n"
   ]
  },
  {
   "cell_type": "markdown",
   "metadata": {},
   "source": [
    "## Объявляем архитектуру сети"
   ]
  },
  {
   "cell_type": "code",
   "execution_count": 172,
   "metadata": {},
   "outputs": [],
   "source": [
    "class ClassPT(nn.Module):\n",
    "    def __init__(self):\n",
    "        super(ClassPT, self).__init__()\n",
    "        \n",
    "        #первый входной слов\n",
    "        self.fc1 = nn.Linear(28*28, 50)\n",
    "        \n",
    "        #скрытый слой\n",
    "        self.fc2 = nn.Linear(50, 10)\n",
    "                                      \n",
    "        self.dropout = nn.Dropout(0.2)\n",
    "\n",
    "    def forward(self, x):\n",
    "        \n",
    "        x = x.view(-1, 28 * 28)\n",
    "        \n",
    "        x = F.sigmoid(self.fc1(x))\n",
    "        x = F.sigmoid(self.fc2(x))\n",
    "        \n",
    "        \n",
    "        return x\n",
    "\n",
    "model = ClassPT()"
   ]
  },
  {
   "cell_type": "markdown",
   "metadata": {},
   "source": [
    "## Тестирования сети на тестовой выборке"
   ]
  },
  {
   "cell_type": "code",
   "execution_count": 173,
   "metadata": {},
   "outputs": [],
   "source": [
    "def test_database():\n",
    "    ind = 0\n",
    "    class_correct = list(0. for i in range(10))\n",
    "    class_total = list(0. for i in range(10))\n",
    "    model.eval() \n",
    "    for data, target in Y_train:\n",
    "        ind += 1\n",
    "        if ind < 300:\n",
    "            # вычисление прогнозируемых результатов\n",
    "            output = model(data)\n",
    "            loss = criterion(output, target)\n",
    "            _, pred = torch.max(output, 1)\n",
    "            # сравниваем прогнозы с желаемыми значениями\n",
    "            correct = np.squeeze(pred.eq(target.data.view_as(pred)))\n",
    "            for i in range(batch_size):\n",
    "                label = target.data[i]\n",
    "                class_correct[label] += correct[i].item()\n",
    "                class_total[label] += 1\n",
    "\n",
    "    print('Точность на тестовой выборке - ',np.sum(class_correct)/np.sum(class_total))"
   ]
  },
  {
   "cell_type": "markdown",
   "metadata": {},
   "source": [
    "## Обучение сети"
   ]
  },
  {
   "cell_type": "code",
   "execution_count": 174,
   "metadata": {},
   "outputs": [
    {
     "name": "stdout",
     "output_type": "stream",
     "text": [
      "Эпоха: 1, Training Loss: 2.0622503256003064, Время на одну эпоху -  13.42\n",
      "Точность на тестовой выборке -  0.76438127090301\n",
      "Эпоха: 2, Training Loss: 1.7692794627348583, Время на одну эпоху -  17.28\n",
      "Точность на тестовой выборке -  0.8103678929765886\n",
      "Эпоха: 3, Training Loss: 1.6905324353377025, Время на одну эпоху -  14.69\n",
      "Точность на тестовой выборке -  0.8389632107023411\n",
      "Эпоха: 4, Training Loss: 1.653626064459483, Время на одну эпоху -  15.38\n",
      "Точность на тестовой выборке -  0.8583612040133779\n",
      "Эпоха: 5, Training Loss: 1.6319425425926843, Время на одну эпоху -  12.87\n",
      "Точность на тестовой выборке -  0.8690635451505017\n",
      "Эпоха: 6, Training Loss: 1.6165193337996802, Время на одну эпоху -  14.53\n",
      "Точность на тестовой выборке -  0.8714046822742475\n",
      "Эпоха: 7, Training Loss: 1.604848760565122, Время на одну эпоху -  14.58\n",
      "Точность на тестовой выборке -  0.8739130434782608\n",
      "Эпоха: 8, Training Loss: 1.5955770066579182, Время на одну эпоху -  14.64\n",
      "Точность на тестовой выборке -  0.8822742474916387\n",
      "Эпоха: 9, Training Loss: 1.5875780378977458, Время на одну эпоху -  14.58\n",
      "Точность на тестовой выборке -  0.8887959866220736\n",
      "Эпоха: 10, Training Loss: 1.5804711204767228, Время на одну эпоху -  14.45\n",
      "Точность на тестовой выборке -  0.8921404682274248\n",
      "Эпоха: 11, Training Loss: 1.5744853484630585, Время на одну эпоху -  14.48\n",
      "Точность на тестовой выборке -  0.8954849498327759\n",
      "Эпоха: 12, Training Loss: 1.5695849940776825, Время на одну эпоху -  14.04\n",
      "Точность на тестовой выборке -  0.8968227424749163\n",
      "Эпоха: 13, Training Loss: 1.5655148972670236, Время на одну эпоху -  11.92\n",
      "Точность на тестовой выборке -  0.8986622073578595\n",
      "Эпоха: 14, Training Loss: 1.5620491031010946, Время на одну эпоху -  11.9\n",
      "Точность на тестовой выборке -  0.9\n",
      "Эпоха: 15, Training Loss: 1.5590314638614655, Время на одну эпоху -  11.91\n",
      "Точность на тестовой выборке -  0.9008361204013378\n",
      "Эпоха: 16, Training Loss: 1.5563574064970016, Время на одну эпоху -  11.9\n",
      "Точность на тестовой выборке -  0.9023411371237459\n",
      "Эпоха: 17, Training Loss: 1.5539552402893702, Время на одну эпоху -  11.9\n",
      "Точность на тестовой выборке -  0.903010033444816\n",
      "Эпоха: 18, Training Loss: 1.5517740548054377, Время на одну эпоху -  11.94\n",
      "Точность на тестовой выборке -  0.9043478260869565\n",
      "Эпоха: 19, Training Loss: 1.5497764454285303, Время на одну эпоху -  12.45\n",
      "Точность на тестовой выборке -  0.9051839464882944\n",
      "Эпоха: 20, Training Loss: 1.5479339758555095, Время на одну эпоху -  12.21\n",
      "Точность на тестовой выборке -  0.9058528428093645\n"
     ]
    }
   ],
   "source": [
    "# функция потерь (softmax)\n",
    "criterion = nn.CrossEntropyLoss() \n",
    "\n",
    "# функция оптимизации\n",
    "optimizer = torch.optim.SGD(model.parameters(), lr=0.05)\n",
    "\n",
    "#  колличество эпох\n",
    "n_epochs = 20\n",
    "\n",
    "model.train()\n",
    "for epoch in range(n_epochs):\n",
    "    start_time = time.clock()\n",
    "    train_loss = 0.0\n",
    "    for data, target in X_train:\n",
    "        optimizer.zero_grad()\n",
    "        # вычисление прогнозируемых результатов\n",
    "        output = model(data)\n",
    "        # вычисление ошибки\n",
    "        loss = criterion(output, target)\n",
    "        loss.backward()\n",
    "        optimizer.step()\n",
    "        train_loss += loss.item()*data.size(0)\n",
    "    train_loss = train_loss/len(X_train.dataset)\n",
    "    print('Эпоха: {0}, Training Loss: {1}, Время на одну эпоху -  {2}'.format(epoch+1, train_loss, round((time.clock() - start_time),2)))\n",
    "    test_database()\n"
   ]
  },
  {
   "cell_type": "markdown",
   "metadata": {},
   "source": [
    "## Тестирование сети на проверочной выборке"
   ]
  },
  {
   "cell_type": "code",
   "execution_count": 167,
   "metadata": {},
   "outputs": [
    {
     "name": "stdout",
     "output_type": "stream",
     "text": [
      "Точность на проверочной выборке -  0.93875\n"
     ]
    }
   ],
   "source": [
    "ind = 0\n",
    "class_correct = list(0. for i in range(10))\n",
    "class_total = list(0. for i in range(10))\n",
    "model.eval() \n",
    "for data, target in Y_train:\n",
    "    ind += 1\n",
    "    if ind > 300:\n",
    "        # вычисление прогнозируемых результатов\n",
    "        output = model(data)\n",
    "        loss = criterion(output, target)\n",
    "        _, pred = torch.max(output, 1)\n",
    "        # сравниваем прогнозы с желаемыми значениями\n",
    "        correct = np.squeeze(pred.eq(target.data.view_as(pred)))\n",
    "        for i in range(batch_size):\n",
    "            label = target.data[i]\n",
    "            class_correct[label] += correct[i].item()\n",
    "            class_total[label] += 1\n",
    "\n",
    "print('Точность на проверочной выборке - ',np.sum(class_correct)/np.sum(class_total))"
   ]
  }
 ],
 "metadata": {
  "kernelspec": {
   "display_name": "Python 3",
   "language": "python",
   "name": "python3"
  },
  "language_info": {
   "codemirror_mode": {
    "name": "ipython",
    "version": 3
   },
   "file_extension": ".py",
   "mimetype": "text/x-python",
   "name": "python",
   "nbconvert_exporter": "python",
   "pygments_lexer": "ipython3",
   "version": "3.6.8"
  }
 },
 "nbformat": 4,
 "nbformat_minor": 2
}
