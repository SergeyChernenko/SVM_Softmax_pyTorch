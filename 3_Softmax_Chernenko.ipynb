{
 "cells": [
  {
   "cell_type": "markdown",
   "metadata": {},
   "source": [
    "### Черненко Сергей Евгеньевич (184-321)"
   ]
  },
  {
   "cell_type": "markdown",
   "metadata": {},
   "source": [
    "# Классификация с помощью Softmax\n",
    "\n",
    "Содержание практической работы:\n",
    "\n",
    "- функция потерь для softmax\n",
    "- аналитический градиент\n",
    "- его проверка с помощью численного градиента\n",
    "- подбор скорости обучения и степени регуляризации на проверочной выборке\n",
    "- оптимизация функции потерь с помощью стохастического градиентного спуска\n",
    "- визуализация конечных весов"
   ]
  },
  {
   "cell_type": "code",
   "execution_count": 135,
   "metadata": {},
   "outputs": [],
   "source": [
    "# Подключим основные библиотеки\n",
    "from __future__ import print_function\n",
    "\n",
    "import math\n",
    "import random\n",
    "import time\n",
    "from builtins import object, range\n",
    "\n",
    "import matplotlib.pyplot as plt\n",
    "import numpy as np\n",
    "from past.builtins import xrange\n",
    "\n",
    "%matplotlib inline"
   ]
  },
  {
   "cell_type": "code",
   "execution_count": 136,
   "metadata": {},
   "outputs": [
    {
     "name": "stdout",
     "output_type": "stream",
     "text": [
      "Размерность изображений для обучения:  (49000, 3073)\n",
      "Размерность классов для обучения:  (49000,)\n",
      "Размерность изображений для проверки:  (1000, 3073)\n",
      "Размерность классов для проверки:  (1000,)\n",
      "Размерность изображений для тестирования:  (1000, 3073)\n",
      "Размерность классов для тестирования:  (1000,)\n",
      "Размерность изображений на время разработки:  (500, 3073)\n",
      "Размерность классов на время разработки:  (500,)\n"
     ]
    }
   ],
   "source": [
    "#Загружаем изображения cifar10\n",
    "from keras.datasets import cifar10\n",
    "\n",
    "(X_train, y_train), (X_test, y_test) = cifar10.load_data()\n",
    "\n",
    "#X_train - обучающая выборка \n",
    "#X_ty_trainrain - желаемая обучающая выборка\n",
    "#X_test - тестовая выборка\n",
    "#y_test -  желаемая тестовая выборка\n",
    "\n",
    "X_train = X_train.astype('float64')\n",
    "X_test = X_test.astype('float64')\n",
    "y_train=[int(i) for i in y_train]\n",
    "y_train=np.array(y_train)\n",
    "y_test=[int(i) for i in y_test]\n",
    "y_test=np.array(y_test)\n",
    "\n",
    "# Колличество обучающих, валидационных, тестовых и вроверочных изображений\n",
    "num_training = 49000\n",
    "num_validation = 1000\n",
    "num_test = 1000\n",
    "num_dev = 500\n",
    "\n",
    "# подвыбоки\n",
    "mask = list(range(num_training, num_training + num_validation))\n",
    "X_val = X_train[mask]\n",
    "y_val = y_train[mask]\n",
    "mask = list(range(num_training))\n",
    "X_train = X_train[mask]\n",
    "y_train = y_train[mask]\n",
    "mask = list(range(num_test))\n",
    "X_test = X_test[mask]\n",
    "y_test = y_test[mask]\n",
    "mask = np.random.choice(num_training, num_dev, replace=False)\n",
    "X_dev = X_train[mask]\n",
    "y_dev = y_train[mask]\n",
    "\n",
    "# Первичная обработка данных: преобразования изображений в ряды\n",
    "X_train = np.reshape(X_train, (X_train.shape[0], -1))\n",
    "X_val = np.reshape(X_val, (X_val.shape[0], -1))\n",
    "X_test = np.reshape(X_test, (X_test.shape[0], -1))\n",
    "X_dev = np.reshape(X_dev, (X_dev.shape[0], -1))\n",
    "\n",
    "# Нормализация данных: вычетаем среднее изображение\n",
    "mean_image = np.mean(X_train, axis = 0)\n",
    "X_train -= mean_image\n",
    "X_val -= mean_image\n",
    "X_test -= mean_image\n",
    "X_dev -= mean_image\n",
    "\n",
    "# Добавляем отклонения и преобазуем в колонки\n",
    "X_train = np.hstack([X_train, np.ones((X_train.shape[0], 1))])\n",
    "X_val = np.hstack([X_val, np.ones((X_val.shape[0], 1))])\n",
    "X_test = np.hstack([X_test, np.ones((X_test.shape[0], 1))])\n",
    "X_dev = np.hstack([X_dev, np.ones((X_dev.shape[0], 1))])\n",
    "\n",
    "print('Размерность изображений для обучения: ', X_train.shape)\n",
    "print('Размерность классов для обучения: ', y_train.shape)\n",
    "print('Размерность изображений для проверки: ', X_val.shape)\n",
    "print('Размерность классов для проверки: ', y_val.shape)\n",
    "print('Размерность изображений для тестирования: ', X_test.shape)\n",
    "print('Размерность классов для тестирования: ', y_test.shape)\n",
    "print('Размерность изображений на время разработки: ', X_dev.shape)\n",
    "print('Размерность классов на время разработки: ', y_dev.shape)"
   ]
  },
  {
   "cell_type": "markdown",
   "metadata": {},
   "source": [
    "## Softmax классификатор\n",
    "\n",
    "Сначала напишем алгоритм с использованием циклов."
   ]
  },
  {
   "cell_type": "code",
   "execution_count": 137,
   "metadata": {},
   "outputs": [],
   "source": [
    "def softmax_loss_naive(W, X, y, reg):\n",
    "    \"\"\"\n",
    "    Функция потерь Softmax через циклы\n",
    "\n",
    "    Вводы имеют размерность D, есть C классов, и работает с минисериями из N образцов.\n",
    "\n",
    "    Ввод:\n",
    "    - W: Массив numpy размерности (D, C) содержащий веса.\n",
    "    - X: Массив numpy размерности (N, D) содержащий данные для обучения;\n",
    "    - y: Массив numpy размерности (N,) содержащий названия классов для обучения.\n",
    "    - reg: (float) степень регуляризации.\n",
    "\n",
    "    Возвращает кортеж:\n",
    "    - потери как float\n",
    "    - градиент по отношению к весам; массив размерностью как W\n",
    "    \"\"\"\n",
    "    loss = 0.0\n",
    "    dW = np.zeros_like(W)\n",
    "    num_train = X.shape[0]\n",
    "    num_classes = W.shape[1]\n",
    "    dims = W.shape[0]\n",
    "# Задание: рассчитайте потери softmax и градиент не используя циклы.\n",
    "# Храните потери в loss, а градиент в dW.\n",
    "# Не забудьте про регуляризацию.\n",
    "\n",
    "    # ***Начало вашего кода***\n",
    "    \n",
    "    for i in range(num_train):\n",
    "        scores = X[i].dot(W)\n",
    "        exp = np.exp(scores)\n",
    "        sum_exp = np.sum(exp)\n",
    "        scores_normalized = exp / sum_exp\n",
    "        for j in range(num_classes):\n",
    "            for dim in range(dims):\n",
    "                \n",
    "                dW[dim,j] += X.T[dim,i] * scores_normalized[j]-1 if j == y[i] else X.T[dim,i] * scores_normalized[j]\n",
    "                \n",
    "        loss += -np.log(scores_normalized[y[i]])\n",
    "    loss /= num_train\n",
    "    loss += reg * np.sum(W*W)\n",
    "  \n",
    "    dW /= num_train\n",
    "    dW += reg * W    \n",
    "            \n",
    "        \n",
    "    # ***Конец вашего кода***\n",
    "\n",
    "    return loss, dW\n"
   ]
  },
  {
   "cell_type": "code",
   "execution_count": 138,
   "metadata": {},
   "outputs": [
    {
     "name": "stdout",
     "output_type": "stream",
     "text": [
      "Потери: 2.343983\n",
      "Проверка работоспособности: 2.302585\n"
     ]
    }
   ],
   "source": [
    "# Инициализация матрицы со случайными весами для softmax и используем ее для расчета потерь.\n",
    "W = np.random.randn(3073, 10) * 0.0001\n",
    "loss, grad = softmax_loss_naive(W, X_dev, y_dev, 0.0)\n",
    "\n",
    "# Потери должны быть близки к -log(0.1).\n",
    "print('Потери: %f' % loss)\n",
    "print('Проверка работоспособности: %f' % (-np.log(0.1)))"
   ]
  },
  {
   "cell_type": "code",
   "execution_count": 139,
   "metadata": {},
   "outputs": [],
   "source": [
    "#Функция для проверки градиента\n",
    "\n",
    "def grad_check_sparse(f, x, analytic_grad, num_checks=10, h=1e-5):\n",
    "    for i in range(num_checks):\n",
    "        ix = tuple([random.randrange(m) for m in x.shape])\n",
    "\n",
    "        oldval = x[ix]\n",
    "        x[ix] = oldval + h\n",
    "        fxph = f(x)\n",
    "        x[ix] = oldval - h\n",
    "        fxmh = f(x)\n",
    "        x[ix] = oldval\n",
    "\n",
    "        grad_numerical = (fxph - fxmh) / (2 * h)\n",
    "        grad_analytic = analytic_grad[ix]\n",
    "        rel_error = (abs(grad_numerical - grad_analytic) /\n",
    "                    (abs(grad_numerical) + abs(grad_analytic)))\n",
    "        print('Численный: %f аналитический: %f, относительная погрешность: %e'\n",
    "              %(grad_numerical, grad_analytic, rel_error))"
   ]
  },
  {
   "cell_type": "code",
   "execution_count": 140,
   "metadata": {},
   "outputs": [
    {
     "name": "stdout",
     "output_type": "stream",
     "text": [
      "Численный: 0.636558 аналитический: 0.168762, относительная погрешность: 5.808811e-01\n",
      "Численный: 1.406487 аналитический: 0.201745, относительная погрешность: 7.491097e-01\n",
      "Численный: -1.581826 аналитический: 0.444381, относительная погрешность: 1.000000e+00\n",
      "Численный: -0.447381 аналитический: -0.107890, относительная погрешность: 6.113969e-01\n",
      "Численный: -1.825642 аналитический: 0.979617, относительная погрешность: 1.000000e+00\n",
      "Численный: -0.271877 аналитический: 0.058704, относительная погрешность: 1.000000e+00\n",
      "Численный: 1.207812 аналитический: 0.011344, относительная погрешность: 9.813902e-01\n",
      "Численный: 1.483922 аналитический: 0.669674, относительная погрешность: 3.780877e-01\n",
      "Численный: -1.083204 аналитический: 0.151126, относительная погрешность: 1.000000e+00\n",
      "Численный: -0.613496 аналитический: -0.066703, относительная погрешность: 8.038718e-01\n",
      "Численный: -0.386226 аналитический: 0.358384, относительная погрешность: 1.000000e+00\n",
      "Численный: 2.170242 аналитический: -0.242390, относительная погрешность: 1.000000e+00\n",
      "Численный: 0.311230 аналитический: -0.819952, относительная погрешность: 1.000000e+00\n",
      "Численный: 3.297017 аналитический: -0.513899, относительная погрешность: 1.000000e+00\n",
      "Численный: -0.837459 аналитический: -0.485227, относительная погрешность: 2.663008e-01\n",
      "Численный: 2.116765 аналитический: 0.732578, относительная погрешность: 4.857917e-01\n",
      "Численный: -0.231463 аналитический: -0.318294, относительная погрешность: 1.579455e-01\n",
      "Численный: 0.427449 аналитический: 0.948166, относительная погрешность: 3.785337e-01\n",
      "Численный: 0.873983 аналитический: 0.204984, относительная погрешность: 6.200363e-01\n",
      "Численный: 1.491632 аналитический: 0.451302, относительная погрешность: 5.354426e-01\n"
     ]
    }
   ],
   "source": [
    "# Расчет потерь и градиента\n",
    "loss, grad = softmax_loss_naive(W, X_dev, y_dev, 0.0)\n",
    "\n",
    "# Как во втором задании используйте численный градиент для отладки кода.\n",
    "# Численный градиент должен быть близок к аналитическому.\n",
    "f = lambda w: softmax_loss_naive(w, X_dev, y_dev, 0.0)[0]\n",
    "grad_numerical = grad_check_sparse(f, W, grad, 10)\n",
    "\n",
    "# И также делаем еще одну проверку с регуляризацией.\n",
    "loss, grad = softmax_loss_naive(W, X_dev, y_dev, 5e1)\n",
    "f = lambda w: softmax_loss_naive(w, X_dev, y_dev, 5e1)[0]\n",
    "grad_numerical = grad_check_sparse(f, W, grad, 10)"
   ]
  },
  {
   "cell_type": "code",
   "execution_count": 141,
   "metadata": {},
   "outputs": [],
   "source": [
    "def softmax_loss_vectorized(W, X, y, reg):\n",
    "    \n",
    "# ввод аналогичен softmax_loss_naive\n",
    "\n",
    "    loss = 0.0\n",
    "    dW = np.zeros_like(W)\n",
    "    num_train = X.shape[0]\n",
    "\n",
    "# Задание: рассчитайте потери softmax и градиент не используя явных циклов.\n",
    "# Храните потери в loss, а градиент в dW.\n",
    "# Не забудьте про регуляризацию.\n",
    "\n",
    "    # ***Начало вашего кода***\n",
    "\n",
    "    scores = np.dot(X, W)\n",
    "    exp = np.exp(scores)\n",
    "    sum_exp = np.sum(exp)\n",
    "    scores_normalized = exp / sum_exp\n",
    "    loss_x = scores_normalized[range(num_train), y]\n",
    "    grad_dW = scores_normalized.copy()\n",
    "    grad_dW[range(num_train), y] -= 1\n",
    "       \n",
    "    loss = np.sum(-np.log(loss_x))\n",
    "    loss /= num_train\n",
    "    loss += reg * np.sum(W*W)\n",
    "      \n",
    "    dW = np.dot(X.T, grad_dW)\n",
    "    dW /= num_train\n",
    "    dW += reg * W\n",
    "    \n",
    "    \n",
    "    # ***Конец вашего кода***\n",
    "\n",
    "    return loss, dW"
   ]
  },
  {
   "cell_type": "code",
   "execution_count": 142,
   "metadata": {},
   "outputs": [
    {
     "name": "stdout",
     "output_type": "stream",
     "text": [
      "Потери: 2.343983e+00 рассчитаны за 35.043561s\n",
      "Потери векторизованные: 8.566678e+00 рассчитаны за 0.005006s\n",
      "Разница потерь: 6.222695\n",
      "Разница градиентов: 370.841084\n"
     ]
    }
   ],
   "source": [
    "# Рассчитаем потери и сравним время.\n",
    "\n",
    "tic = time.time()\n",
    "loss_naive, grad_naive = softmax_loss_naive(W, X_dev, y_dev, 0.000005)\n",
    "toc = time.time()\n",
    "print('Потери: %e рассчитаны за %fs' % (loss_naive, toc - tic))\n",
    "\n",
    "tic = time.time()\n",
    "loss_vectorized, grad_vectorized = softmax_loss_vectorized(W, X_dev, y_dev, 0.000005)\n",
    "toc = time.time()\n",
    "print('Потери векторизованные: %e рассчитаны за %fs' % (loss_vectorized, toc - tic))\n",
    "\n",
    "# Используем Норму Фробениуса для сравнения двух градиентов.\n",
    "grad_difference = np.linalg.norm(grad_naive - grad_vectorized, ord='fro')\n",
    "print('Разница потерь: %f' % np.abs(loss_naive - loss_vectorized))\n",
    "print('Разница градиентов: %f' % grad_difference)"
   ]
  },
  {
   "cell_type": "markdown",
   "metadata": {},
   "source": [
    "### Класс — линейный классификатор\n",
    "\n",
    "Используйте код из задания по SVM, где вы создавали класс \"LinearClassifier\"."
   ]
  },
  {
   "cell_type": "code",
   "execution_count": 143,
   "metadata": {},
   "outputs": [],
   "source": [
    "class LinearClassifier(object):\n",
    "\n",
    "    def __init__(self):\n",
    "        \n",
    "        self.W = None\n",
    "\n",
    "    def train(self, X, y, learning_rate=1e-3, reg=1e-5, num_iters=100,\n",
    "              batch_size=200, verbose=False):\n",
    "        \"\"\"\n",
    "        Обучения линейного классификатора с использованием стохастического градиентного спуска.\n",
    "        \n",
    "        Ввод \n",
    "        \n",
    "        - X: Массив numpy размерности (N, D) содержащий данные для обучения;\n",
    "        - y: Массив numpy размерности (N,) содержащий названия классов для обучения.\n",
    "        - learning_rate: (float) скорость обучения для оптимизации.\n",
    "        - reg: (float) степень регуляризации.\n",
    "        - num_iters: (integer) количество иттераций обучения\n",
    "        - batch_size: (integer) количество элементов для обучения на каждом шаге оптимизации.\n",
    "        - verbose: (boolean) если истина, выводить прогресс во время оптимизации.\n",
    "\n",
    "        Вывод:\n",
    "        Список содержащий значение потерь в каждой иттерации обучения.\n",
    "        \"\"\"\n",
    "        num_train, dim = X.shape\n",
    "        num_classes = np.max(y) + 1\n",
    "        if self.W is None:\n",
    "            # Инициализируем W\n",
    "            self.W = 0.001 * np.random.randn(dim, num_classes)\n",
    "\n",
    "        # Используем стохастический градиентный спуск для оптимизации W.\n",
    "        loss_history = []\n",
    "        for it in range(num_iters):\n",
    "            X_batch = None\n",
    "            y_batch = None\n",
    "\n",
    "        # Задание: взять подвыборку размером batch_size из данных для обучения и их классы\n",
    "        # для использования в этом шаге градиентного спуска.\n",
    "        # Храните данные в X_batch, а их соответствующие классы в y_batch.\n",
    "        # Можете использовать np.random.choice для генерации индексов.\n",
    "\n",
    "            # ***Начало вашего кода***\n",
    "\n",
    "            index = np.random.choice(num_train, batch_size, replace=True)\n",
    "            X_batch = X[index]\n",
    "            y_batch = y[index]\n",
    "\n",
    "            # ***Конец вашего кода***\n",
    "\n",
    "            # Оцениваем потери и градиент\n",
    "            loss, grad = self.loss(X_batch, y_batch, reg)\n",
    "            loss_history.append(loss)\n",
    "\n",
    "            # Обновляем веса\n",
    "\n",
    "        # Задание: Обновить веса используя градиент и скорость обучения.\n",
    "\n",
    "            # ***Начало вашего кода***\n",
    "\n",
    "            self.W += -learning_rate * grad\n",
    "            \n",
    "            # ***Конец вашего кода***\n",
    "\n",
    "            if verbose and it % 100 == 0:\n",
    "                print('iteration %d / %d: loss %f' % (it, num_iters, loss))\n",
    "\n",
    "        return loss_history\n",
    "\n",
    "    def predict(self, X):\n",
    "        \"\"\"\n",
    "        Используя веса после обучения линейного классификатора, предсказать классы для данных X.\n",
    "\n",
    "        Ввод:\n",
    "        - X: Массив numpy размерности (N, D) содержащий данные.\n",
    "\n",
    "        Вывод:\n",
    "        - y_pred: Предсказанные классы для данных в X.\n",
    "        y_pred одномерный массив длинной N и каждый элемент это целое число предсказанного класса.\n",
    "        \"\"\"\n",
    "        y_pred = np.zeros(X.shape[0])\n",
    "        \n",
    "        # Задание: Реализовать метод предсказания классов, используя полученные при обучении веса.\n",
    "        # Предсказаные классы записать в y_pred.\n",
    "        \n",
    "        # ***Начало вашего кода***\n",
    "\n",
    "        y_pred = np.argmax(X.dot(self.W),1)\n",
    "        \n",
    "        # ***Конец вашего кода***\n",
    "        return y_pred\n",
    "\n",
    "    def loss(self, X_batch, y_batch, reg):\n",
    "        pass\n",
    "\n",
    "\n",
    "class Softmax(LinearClassifier):\n",
    "\n",
    "    def loss(self, X_batch, y_batch, reg):\n",
    "        return softmax_loss_vectorized(self.W, X_batch, y_batch, reg)"
   ]
  },
  {
   "cell_type": "markdown",
   "metadata": {},
   "source": [
    "Используя проверочную выборку подберите гиперпараметры (степень регуляризации и скорость обучения). Вы должны поэксперементировать с разными диапазонами этих гиперпараметров. Можно добится точности классификации в 0,35 на проверочной выборке."
   ]
  },
  {
   "cell_type": "code",
   "execution_count": 144,
   "metadata": {},
   "outputs": [
    {
     "name": "stdout",
     "output_type": "stream",
     "text": [
      "Скорость обучения 1.000000e-07 регуляризация 2.500000e+04 точность при обучении: 0.254122 точность при проверке: 0.272000\n",
      "Скорость обучения 1.000000e-07 регуляризация 5.000000e+04 точность при обучении: 0.254122 точность при проверке: 0.272000\n",
      "Скорость обучения 5.000000e-07 регуляризация 2.500000e+04 точность при обучении: 0.254122 точность при проверке: 0.272000\n",
      "Скорость обучения 5.000000e-07 регуляризация 5.000000e+04 точность при обучении: 0.254122 точность при проверке: 0.272000\n",
      "Максимальная точность на проверочной выборке достигнутая за счет перекрестной проверки: 0.272000\n"
     ]
    }
   ],
   "source": [
    "results = {}\n",
    "best_val = -1\n",
    "best_softmax = None\n",
    "learning_rates = [1e-7, 5e-7]\n",
    "regularization_strengths = [2.5e4, 5e4]\n",
    "\n",
    "# Задание: Напишите код, который подбирает лучшие значения гиперпараметров, корректируя их на проверочной выборке.\n",
    "# Максимальная точность для проверочной выборки сохраняется в best_val, а полученный классификатор в best_softmax.\n",
    "# Перекрестная проверка идентична тому, что было во втором задании.\n",
    "\n",
    "# ***Начало вашего кода***\n",
    "\n",
    "for learning_rate in learning_rates:\n",
    "    for reg in regularization_strengths:\n",
    "        softmax = Softmax()\n",
    "        softmax.train(X_train, y_train, learning_rate=learning_rate, reg=reg,\n",
    "                      num_iters=1500, verbose=False)\n",
    "        y_train_pred = svm.predict(X_train)\n",
    "        y_val_pred = svm.predict(X_val)\n",
    "        train_accuracy = np.mean(y_train_pred ==y_train)\n",
    "        val_accuracy = np.mean(y_val_pred == y_val)\n",
    "        results[(learning_rate, reg)] = train_accuracy, val_accuracy\n",
    "        if val_accuracy >= best_val:\n",
    "            best_lr = learning_rate\n",
    "            best_val = val_accuracy\n",
    "            best_softmax = softmax\n",
    "\n",
    "# ***Конец вашего кода***\n",
    "    \n",
    "# Выводим результаты.\n",
    "for lr, reg in sorted(results):\n",
    "    train_accuracy, val_accuracy = results[(lr, reg)]\n",
    "    print('Скорость обучения %e регуляризация %e точность при обучении: %f точность при проверке: %f' % (\n",
    "                lr, reg, train_accuracy, val_accuracy))\n",
    "    \n",
    "print('Максимальная точность на проверочной выборке достигнутая за счет перекрестной проверки: %f' % best_val)"
   ]
  },
  {
   "cell_type": "code",
   "execution_count": 145,
   "metadata": {},
   "outputs": [
    {
     "name": "stdout",
     "output_type": "stream",
     "text": [
      "Точность на тестовой выборке: 0.268000\n"
     ]
    }
   ],
   "source": [
    "# Оценим лучшую модель на тестовой выборке.\n",
    "y_test_pred = best_softmax.predict(X_test)\n",
    "test_accuracy = np.mean(y_test == y_test_pred)\n",
    "print('Точность на тестовой выборке: %f' % (test_accuracy, ))"
   ]
  },
  {
   "cell_type": "code",
   "execution_count": 146,
   "metadata": {},
   "outputs": [
    {
     "data": {
      "image/png": "[encoded data removed]",
      "text/plain": [
       "<Figure size 432x288 with 10 Axes>"
      ]
     },
     "metadata": {
      "needs_background": "light"
     },
     "output_type": "display_data"
    }
   ],
   "source": [
    "# Визуализируем веса после обучения для каждого класса.\n",
    "w = best_softmax.W[:-1,:] # уберем отклонения\n",
    "w = w.reshape(32, 32, 3, 10)\n",
    "\n",
    "w_min, w_max = np.min(w), np.max(w)\n",
    "\n",
    "classes = ['plane', 'car', 'bird', 'cat', 'deer', 'dog', 'frog', 'horse', 'ship', 'truck']\n",
    "for i in range(10):\n",
    "    plt.subplot(2, 5, i + 1)\n",
    "    wimg = 255.0 * (w[:, :, :, i].squeeze() - w_min) / (w_max - w_min)\n",
    "    plt.imshow(wimg.astype('uint8'))\n",
    "    plt.axis('off')\n",
    "    plt.title(classes[i])"
   ]
  },
  {
   "cell_type": "code",
   "execution_count": null,
   "metadata": {},
   "outputs": [],
   "source": []
  }
 ],
 "metadata": {
  "kernelspec": {
   "display_name": "Python 3",
   "language": "python",
   "name": "python3"
  },
  "language_info": {
   "codemirror_mode": {
    "name": "ipython",
    "version": 3
   },
   "file_extension": ".py",
   "mimetype": "text/x-python",
   "name": "python",
   "nbconvert_exporter": "python",
   "pygments_lexer": "ipython3",
   "version": "3.6.8"
  }
 },
 "nbformat": 4,
 "nbformat_minor": 2
}
